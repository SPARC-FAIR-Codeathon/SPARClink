{
  "nbformat": 4,
  "nbformat_minor": 0,
  "metadata": {
    "colab": {
      "name": "Google_Scholar_api.ipynb",
      "provenance": [],
      "authorship_tag": "ABX9TyNDkxy2Bk+PLYlcIqwAK6ES",
      "include_colab_link": true
    },
    "kernelspec": {
      "name": "python3",
      "display_name": "Python 3"
    },
    "language_info": {
      "name": "python"
    }
  },
  "cells": [
    {
      "cell_type": "markdown",
      "metadata": {
        "id": "view-in-github",
        "colab_type": "text"
      },
      "source": [
        "<a href=\"https://colab.research.google.com/github/a-monalisa/SPARClink/blob/main/Google_Scholar_api.ipynb\" target=\"_parent\"><img src=\"https://colab.research.google.com/assets/colab-badge.svg\" alt=\"Open In Colab\"/></a>"
      ]
    },
    {
      "cell_type": "code",
      "metadata": {
        "colab": {
          "base_uri": "https://localhost:8080/"
        },
        "id": "TFBAcDswsUE7",
        "outputId": "53ff34e3-6a58-4a95-f1c1-19793b895b73"
      },
      "source": [
        "!pip install  requests\n",
        "!pip install google-search-results"
      ],
      "execution_count": null,
      "outputs": [
        {
          "output_type": "stream",
          "text": [
            "Requirement already satisfied: requests in /usr/local/lib/python3.7/dist-packages (2.23.0)\n",
            "Requirement already satisfied: certifi>=2017.4.17 in /usr/local/lib/python3.7/dist-packages (from requests) (2021.5.30)\n",
            "Requirement already satisfied: idna<3,>=2.5 in /usr/local/lib/python3.7/dist-packages (from requests) (2.10)\n",
            "Requirement already satisfied: chardet<4,>=3.0.2 in /usr/local/lib/python3.7/dist-packages (from requests) (3.0.4)\n",
            "Requirement already satisfied: urllib3!=1.25.0,!=1.25.1,<1.26,>=1.21.1 in /usr/local/lib/python3.7/dist-packages (from requests) (1.24.3)\n",
            "Collecting google-search-results\n",
            "  Downloading https://files.pythonhosted.org/packages/30/2c/5b029479dabd95087428ade33caa281a4ef52a0aa9e5b6be98d554ece98c/google_search_results-2.3.0.tar.gz\n",
            "Requirement already satisfied: requests in /usr/local/lib/python3.7/dist-packages (from google-search-results) (2.23.0)\n",
            "Requirement already satisfied: chardet<4,>=3.0.2 in /usr/local/lib/python3.7/dist-packages (from requests->google-search-results) (3.0.4)\n",
            "Requirement already satisfied: urllib3!=1.25.0,!=1.25.1,<1.26,>=1.21.1 in /usr/local/lib/python3.7/dist-packages (from requests->google-search-results) (1.24.3)\n",
            "Requirement already satisfied: certifi>=2017.4.17 in /usr/local/lib/python3.7/dist-packages (from requests->google-search-results) (2021.5.30)\n",
            "Requirement already satisfied: idna<3,>=2.5 in /usr/local/lib/python3.7/dist-packages (from requests->google-search-results) (2.10)\n",
            "Building wheels for collected packages: google-search-results\n",
            "  Building wheel for google-search-results (setup.py) ... \u001b[?25l\u001b[?25hdone\n",
            "  Created wheel for google-search-results: filename=google_search_results-2.3.0-cp37-none-any.whl size=18149 sha256=54dde8ee96094b49ab348237f2cbd5e3ca93cfc50cca79a79ca7aad8701bc927\n",
            "  Stored in directory: /root/.cache/pip/wheels/5c/e2/e7/72f2767dc1b98e0490ffe3cbe27dbe24f17897da41a2ccd095\n",
            "Successfully built google-search-results\n",
            "Installing collected packages: google-search-results\n",
            "Successfully installed google-search-results-2.3.0\n"
          ],
          "name": "stdout"
        }
      ]
    },
    {
      "cell_type": "code",
      "metadata": {
        "id": "3Ro-XNu3smAD"
      },
      "source": [
        "from serpapi import GoogleSearch\n",
        "import pandas as pd"
      ],
      "execution_count": null,
      "outputs": []
    },
    {
      "cell_type": "markdown",
      "metadata": {
        "id": "68pALOpKKO5B"
      },
      "source": [
        "Function that takes originationArticleDOI scaraped from pensive as input and searches"
      ]
    },
    {
      "cell_type": "code",
      "metadata": {
        "id": "ElTm4VhnsxrA"
      },
      "source": [
        "def get_fromoriginatingdoi(originatingArticleDOI):\n",
        "      params = {\n",
        "      \"engine\": \"google_scholar\",\n",
        "       \"q\":originatingArticleDOI ,\n",
        "      \"api_key\": \"2687012cd0135fde954ee61b3bfc8e27f614cf745dfec5730f3196bc7634b543\"\n",
        "       }\n",
        "      search = GoogleSearch(params)\n",
        "      results = search.get_json()\n",
        "      return results"
      ],
      "execution_count": null,
      "outputs": []
    },
    {
      "cell_type": "code",
      "metadata": {
        "id": "2bY35fYss5L2"
      },
      "source": [
        "results=get_fromoriginatingdoi(\"10.13003/5jchdy\")\n"
      ],
      "execution_count": null,
      "outputs": []
    },
    {
      "cell_type": "code",
      "metadata": {
        "colab": {
          "base_uri": "https://localhost:8080/"
        },
        "id": "cumfrnjjtL84",
        "outputId": "cbe971e3-0774-46ec-d155-9dd7fcc4a035"
      },
      "source": [
        "results"
      ],
      "execution_count": null,
      "outputs": [
        {
          "output_type": "execute_result",
          "data": {
            "text/plain": [
              "{'organic_results': [{'inline_links': {'cached_page_link': 'http://scholar.googleusercontent.com/scholar?q=cache:38JRjgMPVNUJ:scholar.google.com/+10.13003/5jchdy&hl=en&as_sdt=0,44',\n",
              "    'cited_by': {'cites_id': '15371927936069386975',\n",
              "     'link': 'https://scholar.google.com/scholar?cites=15371927936069386975&as_sdt=5,44&sciodt=0,44&hl=en',\n",
              "     'serpapi_scholar_link': 'https://serpapi.com/search.json?as_sdt=5%2C44&cites=15371927936069386975&engine=google_scholar&hl=en',\n",
              "     'total': 4},\n",
              "    'related_pages_link': 'https://scholar.google.com/scholar?q=related:38JRjgMPVNUJ:scholar.google.com/&scioq=10.13003/5jchdy&hl=en&as_sdt=0,44',\n",
              "    'serpapi_cite_link': 'https://serpapi.com/search.json?engine=google_scholar_cite&q=38JRjgMPVNUJ'},\n",
              "   'link': 'http://ceur-ws.org/Vol-2821/paper2.pdf',\n",
              "   'position': 0,\n",
              "   'publication_info': {'authors': [{'author_id': 'ZJExJkAAAAAJ',\n",
              "      'link': 'https://scholar.google.com/citations?user=ZJExJkAAAAAJ&hl=en&oi=sra',\n",
              "      'name': 'LC Gleim',\n",
              "      'serpapi_scholar_link': 'https://serpapi.com/search.json?author_id=ZJExJkAAAAAJ&engine=google_scholar_author&hl=en'},\n",
              "     {'author_id': 'uhVkSswAAAAJ',\n",
              "      'link': 'https://scholar.google.com/citations?user=uhVkSswAAAAJ&hl=en&oi=sra',\n",
              "      'name': 'S Decker',\n",
              "      'serpapi_scholar_link': 'https://serpapi.com/search.json?author_id=uhVkSswAAAAJ&engine=google_scholar_author&hl=en'}],\n",
              "    'summary': 'LC Gleim, S Decker - MEPDaW@ ISWC, 2020 - ceur-ws.org'},\n",
              "   'resources': [{'file_format': 'PDF',\n",
              "     'link': 'http://ceur-ws.org/Vol-2821/paper2.pdf',\n",
              "     'title': 'ceur-ws.org'}],\n",
              "   'result_id': '38JRjgMPVNUJ',\n",
              "   'snippet': '… RFC 3986 (2005) 2. Crossref Display Guidelines (2017), https://doi.org/10.13003/5jchdy 3. Gleim, L., Pennekamp, J., et al.: FactDAG: Formalizing Data Interoperability in an Internet of Production. IEEE Internet of Things Journal pp …',\n",
              "   'title': 'Timestamped URLs as Persistent Identifiers.',\n",
              "   'type': 'Pdf'},\n",
              "  {'inline_links': {'cached_page_link': 'https://scholar.googleusercontent.com/scholar?q=cache:jz7zw7flARgJ:scholar.google.com/+10.13003/5jchdy&hl=en&as_sdt=0,44',\n",
              "    'cited_by': {'cites_id': '1729916309316255375',\n",
              "     'link': 'https://scholar.google.com/scholar?cites=1729916309316255375&as_sdt=5,44&sciodt=0,44&hl=en',\n",
              "     'serpapi_scholar_link': 'https://serpapi.com/search.json?as_sdt=5%2C44&cites=1729916309316255375&engine=google_scholar&hl=en',\n",
              "     'total': 1},\n",
              "    'html_version': 'https://www.neiconjournal.com/jour/article/view/91',\n",
              "    'related_pages_link': 'https://scholar.google.com/scholar?q=related:jz7zw7flARgJ:scholar.google.com/&scioq=10.13003/5jchdy&hl=en&as_sdt=0,44',\n",
              "    'serpapi_cite_link': 'https://serpapi.com/search.json?engine=google_scholar_cite&q=jz7zw7flARgJ',\n",
              "    'versions': {'cluster_id': '1729916309316255375',\n",
              "     'link': 'https://scholar.google.com/scholar?cluster=1729916309316255375&hl=en&as_sdt=0,44',\n",
              "     'serpapi_scholar_link': 'https://serpapi.com/search.json?as_sdt=0%2C44&cluster=1729916309316255375&engine=google_scholar&hl=en',\n",
              "     'total': 3}},\n",
              "   'link': 'https://www.neiconjournal.com/jour/article/view/91',\n",
              "   'position': 1,\n",
              "   'publication_info': {'summary': 'НН Литвинова - Наука и научная информация, 2020 - neiconjournal.com'},\n",
              "   'resources': [{'file_format': 'HTML',\n",
              "     'link': 'https://www.neiconjournal.com/jour/article/view/91',\n",
              "     'title': 'neiconjournal.com'}],\n",
              "   'result_id': 'jz7zw7flARgJ',\n",
              "   'snippet': '… С 2017 года CrossRefрекомендует записывать DOIкак URL, разрешающийся в страницу с описанием документа. Эта рекомендация опубликована на сайте CrossRefв DOIDisplayGuidelines (https://doi.org/10.13003/5jchdy). Синтаксис URL имеет вид …',\n",
              "   'title': 'Многоликий DOI CrossRef: все ли функции мы используем?',\n",
              "   'type': 'Html'},\n",
              "  {'inline_links': {'cited_by': {'cites_id': '9857002342253681039',\n",
              "     'link': 'https://scholar.google.com/scholar?cites=9857002342253681039&as_sdt=5,44&sciodt=0,44&hl=en',\n",
              "     'serpapi_scholar_link': 'https://serpapi.com/search.json?as_sdt=5%2C44&cites=9857002342253681039&engine=google_scholar&hl=en',\n",
              "     'total': 5},\n",
              "    'related_pages_link': 'https://scholar.google.com/scholar?q=related:j1k52Gcby4gJ:scholar.google.com/&scioq=10.13003/5jchdy&hl=en&as_sdt=0,44',\n",
              "    'serpapi_cite_link': 'https://serpapi.com/search.json?engine=google_scholar_cite&q=j1k52Gcby4gJ',\n",
              "    'versions': {'cluster_id': '9857002342253681039',\n",
              "     'link': 'https://scholar.google.com/scholar?cluster=9857002342253681039&hl=en&as_sdt=0,44',\n",
              "     'serpapi_scholar_link': 'https://serpapi.com/search.json?as_sdt=0%2C44&cluster=9857002342253681039&engine=google_scholar&hl=en',\n",
              "     'total': 16}},\n",
              "   'link': 'https://www.cairn.info/revue-i2d-information-donnees-et-documents-2020-2-page-155.htm',\n",
              "   'position': 2,\n",
              "   'publication_info': {'authors': [{'author_id': 's_yL_WIAAAAJ',\n",
              "      'link': 'https://scholar.google.com/citations?user=s_yL_WIAAAAJ&hl=en&oi=sra',\n",
              "      'name': 'A Michaud',\n",
              "      'serpapi_scholar_link': 'https://serpapi.com/search.json?author_id=s_yL_WIAAAAJ&engine=google_scholar_author&hl=en'}],\n",
              "    'summary': 'A Vasile, S Guillaume, M Aouini, A Michaud - I2D-Information, donnees …, 2020 - cairn.info'},\n",
              "   'resources': [{'file_format': 'PDF',\n",
              "     'link': 'https://halshs.archives-ouvertes.fr/halshs-02870206/file/DOI_VersionAuteur_HAL.pdf',\n",
              "     'title': 'archives-ouvertes.fr'}],\n",
              "   'result_id': 'j1k52Gcby4gJ',\n",
              "   'title': 'Le Digital Object Identifier, une impérieuse nécessité?'},\n",
              "  {'inline_links': {'cached_page_link': 'https://scholar.googleusercontent.com/scholar?q=cache:n_wSMdSGJwIJ:scholar.google.com/+10.13003/5jchdy&hl=en&as_sdt=0,44',\n",
              "    'cited_by': {'cites_id': '155240958082088095',\n",
              "     'link': 'https://scholar.google.com/scholar?cites=155240958082088095&as_sdt=5,44&sciodt=0,44&hl=en',\n",
              "     'serpapi_scholar_link': 'https://serpapi.com/search.json?as_sdt=5%2C44&cites=155240958082088095&engine=google_scholar&hl=en',\n",
              "     'total': 1},\n",
              "    'related_pages_link': 'https://scholar.google.com/scholar?q=related:n_wSMdSGJwIJ:scholar.google.com/&scioq=10.13003/5jchdy&hl=en&as_sdt=0,44',\n",
              "    'serpapi_cite_link': 'https://serpapi.com/search.json?engine=google_scholar_cite&q=n_wSMdSGJwIJ',\n",
              "    'versions': {'cluster_id': '155240958082088095',\n",
              "     'link': 'https://scholar.google.com/scholar?cluster=155240958082088095&hl=en&as_sdt=0,44',\n",
              "     'serpapi_scholar_link': 'https://serpapi.com/search.json?as_sdt=0%2C44&cluster=155240958082088095&engine=google_scholar&hl=en',\n",
              "     'total': 3}},\n",
              "   'link': 'https://www.biorxiv.org/content/10.1101/2021.02.10.430563v2.abstract',\n",
              "   'position': 3,\n",
              "   'publication_info': {'authors': [{'author_id': '7cao0LQAAAAJ',\n",
              "      'link': 'https://scholar.google.com/citations?user=7cao0LQAAAAJ&hl=en&oi=sra',\n",
              "      'name': 'A Bandrowski',\n",
              "      'serpapi_scholar_link': 'https://serpapi.com/search.json?author_id=7cao0LQAAAAJ&engine=google_scholar_author&hl=en'},\n",
              "     {'author_id': 'C3FYbw0AAAAJ',\n",
              "      'link': 'https://scholar.google.com/citations?user=C3FYbw0AAAAJ&hl=en&oi=sra',\n",
              "      'name': 'JS Grethe',\n",
              "      'serpapi_scholar_link': 'https://serpapi.com/search.json?author_id=C3FYbw0AAAAJ&engine=google_scholar_author&hl=en'}],\n",
              "    'summary': 'A Bandrowski, JS Grethe, A Pilko, TH Gillespie, G Pine… - bioRxiv, 2021 - biorxiv.org'},\n",
              "   'resources': [{'file_format': 'PDF',\n",
              "     'link': 'https://www.biorxiv.org/content/biorxiv/early/2021/03/19/2021.02.10.430563.full.pdf',\n",
              "     'title': 'biorxiv.org'},\n",
              "    {'link': 'https://scholar.google.com/scholar?output=instlink&q=info:n_wSMdSGJwIJ:scholar.google.com/&hl=en&as_sdt=0,44&scillfp=14672346520386199193&oi=lle',\n",
              "     'title': 'Free from Publisher'}],\n",
              "   'result_id': 'n_wSMdSGJwIJ',\n",
              "   'snippet': 'Page 1. SPARC Data Structure: Rationale and Design of a FAIR Standard for Biomedical Research Data Anita Bandrowskia, Jeffrey S. Grethea, Anna Pilkoa, Tom Gillespiea, Gabi Pinea, Bhavesh Patelb, Monique Surles-Zeiglera, and Maryann E. Martonea …',\n",
              "   'title': 'Sparc data structure: Rationale and design of a fair standard for biomedical research data'}],\n",
              " 'search_information': {'organic_results_state': 'Results for exact spelling',\n",
              "  'query_displayed': '10.13003/5jchdy',\n",
              "  'time_taken_displayed': 0.02,\n",
              "  'total_results': 4},\n",
              " 'search_metadata': {'created_at': '2021-07-18 18:32:46 UTC',\n",
              "  'google_scholar_url': 'https://scholar.google.com/scholar?q=10.13003%2F5jchdy&hl=en',\n",
              "  'id': '60f473cee135080701bee081',\n",
              "  'json_endpoint': 'https://serpapi.com/searches/51e7edffa34ec3a5/60f473cee135080701bee081.json',\n",
              "  'processed_at': '2021-07-18 18:32:46 UTC',\n",
              "  'raw_html_file': 'https://serpapi.com/searches/51e7edffa34ec3a5/60f473cee135080701bee081.html',\n",
              "  'status': 'Success',\n",
              "  'total_time_taken': 2.65},\n",
              " 'search_parameters': {'engine': 'google_scholar',\n",
              "  'hl': 'en',\n",
              "  'q': '10.13003/5jchdy'}}"
            ]
          },
          "metadata": {
            "tags": []
          },
          "execution_count": 227
        }
      ]
    },
    {
      "cell_type": "markdown",
      "metadata": {
        "id": "ChcFtIuIKcXy"
      },
      "source": [
        "Taking publication information and citation information from scraped data"
      ]
    },
    {
      "cell_type": "code",
      "metadata": {
        "id": "DWTOpOaaGIui"
      },
      "source": [
        "def getcitaionandpubinfo(results):\n",
        "  record = {}\n",
        "  for item in results['organic_results']:\n",
        "    data = {}\n",
        "    data['title']   = item['title']\n",
        "    data['author_info']=item['publication_info']\n",
        "    data['citation_info']=item['inline_links']\n",
        "    data['cites_id']=item['inline_links']['cited_by']['cites_id']\n",
        "    record[item['position']] = data\n",
        "    return record"
      ],
      "execution_count": null,
      "outputs": []
    },
    {
      "cell_type": "code",
      "metadata": {
        "colab": {
          "base_uri": "https://localhost:8080/"
        },
        "id": "4omY0lwAJmYD",
        "outputId": "3b686190-c732-401d-91e7-e65cb0444c88"
      },
      "source": [
        "record"
      ],
      "execution_count": null,
      "outputs": [
        {
          "output_type": "execute_result",
          "data": {
            "text/plain": [
              "{0: {'author_info': {'authors': [{'author_id': 'ZJExJkAAAAAJ',\n",
              "     'link': 'https://scholar.google.com/citations?user=ZJExJkAAAAAJ&hl=en&oi=sra',\n",
              "     'name': 'LC Gleim',\n",
              "     'serpapi_scholar_link': 'https://serpapi.com/search.json?author_id=ZJExJkAAAAAJ&engine=google_scholar_author&hl=en'},\n",
              "    {'author_id': 'uhVkSswAAAAJ',\n",
              "     'link': 'https://scholar.google.com/citations?user=uhVkSswAAAAJ&hl=en&oi=sra',\n",
              "     'name': 'S Decker',\n",
              "     'serpapi_scholar_link': 'https://serpapi.com/search.json?author_id=uhVkSswAAAAJ&engine=google_scholar_author&hl=en'}],\n",
              "   'summary': 'LC Gleim, S Decker - MEPDaW@ ISWC, 2020 - ceur-ws.org'},\n",
              "  'citation_info': {'cached_page_link': 'http://scholar.googleusercontent.com/scholar?q=cache:38JRjgMPVNUJ:scholar.google.com/+10.13003/5jchdy&hl=en&as_sdt=0,44',\n",
              "   'cited_by': {'cites_id': '15371927936069386975',\n",
              "    'link': 'https://scholar.google.com/scholar?cites=15371927936069386975&as_sdt=5,44&sciodt=0,44&hl=en',\n",
              "    'serpapi_scholar_link': 'https://serpapi.com/search.json?as_sdt=5%2C44&cites=15371927936069386975&engine=google_scholar&hl=en',\n",
              "    'total': 4},\n",
              "   'related_pages_link': 'https://scholar.google.com/scholar?q=related:38JRjgMPVNUJ:scholar.google.com/&scioq=10.13003/5jchdy&hl=en&as_sdt=0,44',\n",
              "   'serpapi_cite_link': 'https://serpapi.com/search.json?engine=google_scholar_cite&q=38JRjgMPVNUJ'},\n",
              "  'cites_id': '15371927936069386975',\n",
              "  'title': 'Timestamped URLs as Persistent Identifiers.'},\n",
              " 1: {'author_info': {'summary': 'НН Литвинова - Наука и научная информация, 2020 - neiconjournal.com'},\n",
              "  'citation_info': {'cached_page_link': 'https://scholar.googleusercontent.com/scholar?q=cache:jz7zw7flARgJ:scholar.google.com/+10.13003/5jchdy&hl=en&as_sdt=0,44',\n",
              "   'cited_by': {'cites_id': '1729916309316255375',\n",
              "    'link': 'https://scholar.google.com/scholar?cites=1729916309316255375&as_sdt=5,44&sciodt=0,44&hl=en',\n",
              "    'serpapi_scholar_link': 'https://serpapi.com/search.json?as_sdt=5%2C44&cites=1729916309316255375&engine=google_scholar&hl=en',\n",
              "    'total': 1},\n",
              "   'html_version': 'https://www.neiconjournal.com/jour/article/view/91',\n",
              "   'related_pages_link': 'https://scholar.google.com/scholar?q=related:jz7zw7flARgJ:scholar.google.com/&scioq=10.13003/5jchdy&hl=en&as_sdt=0,44',\n",
              "   'serpapi_cite_link': 'https://serpapi.com/search.json?engine=google_scholar_cite&q=jz7zw7flARgJ',\n",
              "   'versions': {'cluster_id': '1729916309316255375',\n",
              "    'link': 'https://scholar.google.com/scholar?cluster=1729916309316255375&hl=en&as_sdt=0,44',\n",
              "    'serpapi_scholar_link': 'https://serpapi.com/search.json?as_sdt=0%2C44&cluster=1729916309316255375&engine=google_scholar&hl=en',\n",
              "    'total': 3}},\n",
              "  'cites_id': '1729916309316255375',\n",
              "  'title': 'Многоликий DOI CrossRef: все ли функции мы используем?'},\n",
              " 2: {'author_info': {'authors': [{'author_id': 's_yL_WIAAAAJ',\n",
              "     'link': 'https://scholar.google.com/citations?user=s_yL_WIAAAAJ&hl=en&oi=sra',\n",
              "     'name': 'A Michaud',\n",
              "     'serpapi_scholar_link': 'https://serpapi.com/search.json?author_id=s_yL_WIAAAAJ&engine=google_scholar_author&hl=en'}],\n",
              "   'summary': 'A Vasile, S Guillaume, M Aouini, A Michaud - I2D-Information, donnees …, 2020 - cairn.info'},\n",
              "  'citation_info': {'cited_by': {'cites_id': '9857002342253681039',\n",
              "    'link': 'https://scholar.google.com/scholar?cites=9857002342253681039&as_sdt=5,44&sciodt=0,44&hl=en',\n",
              "    'serpapi_scholar_link': 'https://serpapi.com/search.json?as_sdt=5%2C44&cites=9857002342253681039&engine=google_scholar&hl=en',\n",
              "    'total': 5},\n",
              "   'related_pages_link': 'https://scholar.google.com/scholar?q=related:j1k52Gcby4gJ:scholar.google.com/&scioq=10.13003/5jchdy&hl=en&as_sdt=0,44',\n",
              "   'serpapi_cite_link': 'https://serpapi.com/search.json?engine=google_scholar_cite&q=j1k52Gcby4gJ',\n",
              "   'versions': {'cluster_id': '9857002342253681039',\n",
              "    'link': 'https://scholar.google.com/scholar?cluster=9857002342253681039&hl=en&as_sdt=0,44',\n",
              "    'serpapi_scholar_link': 'https://serpapi.com/search.json?as_sdt=0%2C44&cluster=9857002342253681039&engine=google_scholar&hl=en',\n",
              "    'total': 16}},\n",
              "  'cites_id': '9857002342253681039',\n",
              "  'title': 'Le Digital Object Identifier, une impérieuse nécessité?'},\n",
              " 3: {'author_info': {'authors': [{'author_id': '7cao0LQAAAAJ',\n",
              "     'link': 'https://scholar.google.com/citations?user=7cao0LQAAAAJ&hl=en&oi=sra',\n",
              "     'name': 'A Bandrowski',\n",
              "     'serpapi_scholar_link': 'https://serpapi.com/search.json?author_id=7cao0LQAAAAJ&engine=google_scholar_author&hl=en'},\n",
              "    {'author_id': 'C3FYbw0AAAAJ',\n",
              "     'link': 'https://scholar.google.com/citations?user=C3FYbw0AAAAJ&hl=en&oi=sra',\n",
              "     'name': 'JS Grethe',\n",
              "     'serpapi_scholar_link': 'https://serpapi.com/search.json?author_id=C3FYbw0AAAAJ&engine=google_scholar_author&hl=en'}],\n",
              "   'summary': 'A Bandrowski, JS Grethe, A Pilko, TH Gillespie, G Pine… - bioRxiv, 2021 - biorxiv.org'},\n",
              "  'citation_info': {'cached_page_link': 'https://scholar.googleusercontent.com/scholar?q=cache:n_wSMdSGJwIJ:scholar.google.com/+10.13003/5jchdy&hl=en&as_sdt=0,44',\n",
              "   'cited_by': {'cites_id': '155240958082088095',\n",
              "    'link': 'https://scholar.google.com/scholar?cites=155240958082088095&as_sdt=5,44&sciodt=0,44&hl=en',\n",
              "    'serpapi_scholar_link': 'https://serpapi.com/search.json?as_sdt=5%2C44&cites=155240958082088095&engine=google_scholar&hl=en',\n",
              "    'total': 1},\n",
              "   'related_pages_link': 'https://scholar.google.com/scholar?q=related:n_wSMdSGJwIJ:scholar.google.com/&scioq=10.13003/5jchdy&hl=en&as_sdt=0,44',\n",
              "   'serpapi_cite_link': 'https://serpapi.com/search.json?engine=google_scholar_cite&q=n_wSMdSGJwIJ',\n",
              "   'versions': {'cluster_id': '155240958082088095',\n",
              "    'link': 'https://scholar.google.com/scholar?cluster=155240958082088095&hl=en&as_sdt=0,44',\n",
              "    'serpapi_scholar_link': 'https://serpapi.com/search.json?as_sdt=0%2C44&cluster=155240958082088095&engine=google_scholar&hl=en',\n",
              "    'total': 3}},\n",
              "  'cites_id': '155240958082088095',\n",
              "  'title': 'Sparc data structure: Rationale and design of a fair standard for biomedical research data'}}"
            ]
          },
          "metadata": {
            "tags": []
          },
          "execution_count": 263
        }
      ]
    },
    {
      "cell_type": "markdown",
      "metadata": {
        "id": "RtEhxNPFLasP"
      },
      "source": [
        "Function to use cites_id and search all related items"
      ]
    },
    {
      "cell_type": "code",
      "metadata": {
        "id": "pLT-JtB7G4vp"
      },
      "source": [
        "def get_fromcitesid(cites_id):\n",
        "      params = {\n",
        "      \"engine\": \"google_scholar\",\n",
        "       \"cites\":cites_id,\n",
        "      \"api_key\": \"2687012cd0135fde954ee61b3bfc8e27f614cf745dfec5730f3196bc7634b543\"\n",
        "       }\n",
        "      search = GoogleSearch(params)\n",
        "      results = search.get_json()\n",
        "      return results"
      ],
      "execution_count": null,
      "outputs": []
    }
  ]
}