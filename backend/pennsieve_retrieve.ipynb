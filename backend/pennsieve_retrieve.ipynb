{
 "cells": [
  {
   "cell_type": "code",
   "execution_count": 16,
   "id": "61fd6d48-95f9-4d1f-bc8c-f3c4d2759a76",
   "metadata": {},
   "outputs": [
    {
     "data": {
      "text/plain": [
       "'ssoundarajan@calmi2.org'"
      ]
     },
     "execution_count": 16,
     "metadata": {},
     "output_type": "execute_result"
    }
   ],
   "source": [
    "# #import .env variables\n",
    "# from dotenv import dotenv_values\n",
    "# config = dotenv_values(\".env\")\n",
    "# config[\"USERNAME\"]"
   ]
  },
  {
   "cell_type": "code",
   "execution_count": 17,
   "id": "a1ab5b93-eb0e-4b82-b412-7e3ef1fb7870",
   "metadata": {},
   "outputs": [],
   "source": [
    "#imports\n",
    "import boto3\n",
    "import requests\n",
    "import pandas as pd \n",
    "from tqdm import tqdm"
   ]
  },
  {
   "cell_type": "code",
   "execution_count": 18,
   "id": "b90470ed-00d1-4683-b47f-d7a4930bab43",
   "metadata": {},
   "outputs": [
    {
     "name": "stdout",
     "output_type": "stream",
     "text": [
      "{'id': 'N:user:65290a77-3d9e-4b43-9500-60a4a26ebc89', 'email': 'ssoundarajan@calmi2.org', 'firstName': 'Sanjay', 'lastName': 'Soundarajan', 'credential': 'Software Developer', 'color': '#474647', 'url': '', 'authyId': 0, 'isSuperAdmin': False, 'createdAt': '2020-12-07T23:37:58.087015Z', 'updatedAt': '2021-07-01T17:28:21.852925Z', 'preferredOrganization': 'N:organization:618e8dd9-f8d2-4dc4-9abb-c6aaab2e78a0', 'orcid': {'name': 'Sanjay Soundarajan', 'orcid': '0000-0003-2829-8032'}, 'pennsieveTermsOfService': {'version': '20210710000000'}, 'customTermsOfService': [], 'intId': 1079}\n"
     ]
    }
   ],
   "source": [
    "# def authenticate_user():\n",
    "#     PENNSIEVE_URL = \"https://api.pennsieve.io\"\n",
    "#     email = config[\"USERNAME\"]\n",
    "#     password = config[\"PASSWORD\"]\n",
    "\n",
    "#     r = requests.get(f\"{PENNSIEVE_URL}/authentication/cognito-config\")\n",
    "#     r.raise_for_status()\n",
    "#     cognito_app_client_id = r.json()[\"userPool\"][\"appClientId\"]\n",
    "#     cognito_region = r.json()[\"userPool\"][\"region\"]\n",
    "\n",
    "#     cognito_client = boto3.client(\n",
    "#     \"cognito-idp\",\n",
    "#     region_name=cognito_region,\n",
    "#     aws_access_key_id=\"\",\n",
    "#     aws_secret_access_key=\"\")\n",
    "    \n",
    "#     login_response = cognito_client.initiate_auth(\n",
    "#     AuthFlow=\"USER_PASSWORD_AUTH\",\n",
    "#     AuthParameters={\"USERNAME\": email, \"PASSWORD\": password},\n",
    "#     ClientId=cognito_app_client_id)\n",
    "    \n",
    "#     api_key = login_response[\"AuthenticationResult\"][\"AccessToken\"]\n",
    "    \n",
    "#     r = requests.get(f\"{PENNSIEVE_URL}/user\", headers={\"Authorization\": f\"Bearer {api_key}\"})\n",
    "#     r.raise_for_status()\n",
    "#     print(r.json())\n",
    "#     return api_key \n",
    "    \n",
    "# api_key = authenticate_user()"
   ]
  },
  {
   "cell_type": "code",
   "execution_count": 32,
   "id": "a22c1598-216a-438e-a8e5-fcb22d9f8808",
   "metadata": {},
   "outputs": [
    {
     "name": "stderr",
     "output_type": "stream",
     "text": [
      "100%|██████████████████████████████████████████████████████████████████████████████████| 98/98 [00:35<00:00,  2.76it/s]\n"
     ]
    }
   ],
   "source": [
    "def get_published_datasets():\n",
    "    url = \"https://api.pennsieve.io/discover/search/records\"\n",
    "    querystring = {\"model\": \"award\"}\n",
    "    headers = {\"Accept\": \"application/json\"}\n",
    "    response = requests.request(\"GET\", url, headers=headers, params=querystring)\n",
    "    response = response.json()\n",
    "    querystring = {\"limit\": response[\"totalCount\"], \"model\": \"award\"}\n",
    "    response = requests.request(\"GET\", url, headers=headers, params=querystring)\n",
    "    response = response.json()\n",
    "    list_of_datasets = response[\"records\"].copy()\n",
    "    return list_of_datasets\n",
    "\n",
    "list_of_datasets = get_published_datasets()\n",
    "list_of_datasets[0]\n",
    "\n",
    "for item in tqdm(list_of_datasets):\n",
    "    url = f\"https://api.pennsieve.io/discover/datasets/{item['datasetId']}\"\n",
    "    headers = {\"Accept\": \"application/json\"}\n",
    "    response = requests.request(\"GET\", url, headers=headers)\n",
    "    response = response.json()\n",
    "    item['version'] = response['version']\n",
    "    item['versionPublishedAt'] = response['versionPublishedAt']\n",
    "    item['datasetDOI'] = 'https://dx.doi.org/' + response['doi']\n",
    "    item['tags'] = response['tags']\n",
    "    item['contributors'] = response['contributors']"
   ]
  },
  {
   "cell_type": "code",
   "execution_count": 33,
   "id": "59c130c0-21c8-4679-b845-9eb4798346cc",
   "metadata": {},
   "outputs": [],
   "source": [
    "#change loop variant on prod\n",
    "# for item in list_of_datasets[:1]:\n",
    "#     url = f\"https://api.pennsieve.io/discover/datasets/{item['datasetId']}/versions/{item['version']}/files\"\n",
    "#     querystring = {\"path\":\"files/dataset_description.xlsx\"}\n",
    "#     headers = {\"Accept\": \"application/json\"}\n",
    "#     response = requests.request(\"GET\", url, headers=headers, params=querystring)\n",
    "#     response = response.json()\n",
    "#     item[\"datasetDescriptionPackageId\"] = response[\"sourcePackageId\"]\n",
    "#     print(response)"
   ]
  },
  {
   "cell_type": "code",
   "execution_count": 34,
   "id": "63265008-c79c-4593-ae70-235a0408668a",
   "metadata": {},
   "outputs": [
    {
     "name": "stderr",
     "output_type": "stream",
     "text": [
      " 12%|██████████                                                                        | 12/98 [00:14<01:42,  1.20s/it]"
     ]
    },
    {
     "name": "stdout",
     "output_type": "stream",
     "text": [
      "{'datasetId': 137, 'version': 1, 'model': 'award', 'properties': {'description': '', 'id': 'feebb68c-e847-4a9e-9931-e7f1e5332a57', 'principal_investigator': '', 'title': '', 'award_id': 'OT2OD023848'}, 'versionPublishedAt': '2021-05-11T19:37:19.02855Z', 'datasetDOI': 'https://dx.doi.org/10.26275/56h4-ypua', 'tags': ['sparc', 'ragp', 'lcm', 'single neurons', '3d tracking'], 'contributors': [{'firstName': 'Alison ', 'middleInitial': None, 'lastName': 'Moss', 'degree': None, 'orcid': '0000-0002-7907-8796'}, {'firstName': 'Shaina', 'middleInitial': None, 'lastName': 'Robbins', 'degree': None, 'orcid': '0000-0002-7885-743X'}, {'firstName': 'Sirisha', 'middleInitial': None, 'lastName': 'Achanta', 'degree': None, 'orcid': None}, {'firstName': 'Sean', 'middleInitial': None, 'lastName': 'Nieves', 'degree': None, 'orcid': None}, {'firstName': 'Scott', 'middleInitial': None, 'lastName': 'Turick', 'degree': None, 'orcid': None}, {'firstName': 'Peter', 'middleInitial': None, 'lastName': 'Hanna', 'degree': 'M.D.', 'orcid': '0000-0003-3092-5090'}, {'firstName': 'Jeffrey', 'middleInitial': None, 'lastName': 'Ardell', 'degree': 'Ph.D.', 'orcid': '0000-0001-9241-0864'}, {'firstName': 'Kalyanam', 'middleInitial': None, 'lastName': 'Shivkumar', 'degree': 'Ph.D.', 'orcid': '0000-0002-4121-1766'}, {'firstName': 'James', 'middleInitial': None, 'lastName': 'Schwaber', 'degree': None, 'orcid': '0000-0003-0598-7345'}, {'firstName': 'Raj', 'middleInitial': None, 'lastName': 'Vadigepalli', 'degree': None, 'orcid': '0000-0002-8405-1037'}]}\n"
     ]
    },
    {
     "name": "stderr",
     "output_type": "stream",
     "text": [
      " 44%|███████████████████████████████████▉                                              | 43/98 [01:00<01:04,  1.17s/it]"
     ]
    },
    {
     "name": "stdout",
     "output_type": "stream",
     "text": [
      "{'datasetId': 74, 'version': 2, 'model': 'award', 'properties': {'description': 'DESCRIPTION. A high-density Stim-Grid MAP spinal cord stimulation lead technology is proposed to enablethe creation of predictive maps that detail how lower urinary tract nerve pathways can be activated through high-density stimulation of the sacral spinal cord and roots. These maps will enable principled development ofneuromodulation therapies that use spinal cord stimulation to alleviate the burden of overactive bladder andincontinence. The lower urinary tract (LUT), consisting of the bladder, urethra and associated muscles and nerves,is an important target organ system for neuromodulation therapies as injury, disease and aging can lead toimpairment and subsequent reductions in the quality of life. While existing neuromodulation devices have beenimplanted in over 200,000 people, device related adverse events remain common, and despite functionalimprovements, many people still deal with unwanted symptoms of overactive bladder and incontinence. Usingelectric field modelling, our multidisciplinary team has demonstrated that a two-fold increase in electrodecolumns and density can deliver stimulation to laterally-positioned spinal cord targets not possible with existingclinical electrodes. Furthermore, we have demonstrated feasibility of manufacturing ultra-flexible electrodes thatcan conform to the plexus geometry of the sacral spinal cord. The objective of this technology development effortis to develop and commercialize a 64-channel active-lead which contains 8-columns and 8 rows, and to developmaps of the accessibility of LUT peripheral nerves through spinal cord stimulation. We seek to perform threedevelopment tasks: (AIM 1) Develop a contoured and passive high-density epidural spinal-cord paddle array,(AIM 2): Develop a STIM-GRID MAP spinal cord paddle with a switch-matrix electronics package, (AIM 3)Develop maps of LUT recruitment by high-resolution stimulation of the sacral spinal cord. Our multi-disciplinaryteam includes device development (Micro-Leads) and bladder electrophysiology (University of Pittsburgh). InYear 1 we will create and demonstrate a 48-channel flexible and high-density passive lead and create maps thatdescribe the selective access to the pelvic nerve, pudendal nerve and pudendal nerve branches. In Year 2 we willdemonstrate a Stim-Grid MAP array with 8 columns and 8-rows (64-channels of resolution) using only 16 wires.The high-resolution array will enable us to generate maps of LUT peripheral nerve access at the spinal cord, butimportantly, is immediately scalable to map other organ models with little additional development effort and time.Because the Stim-Grid MAP technology is based on well-understood implantable spinal cord lead implantationtechniques, this technology could be rapidly translated to high-resolution spinal cord mapping experiments inpeople during an intraoperative settings in an OT3 phase.', 'id': 'c4433b85-dd53-495f-9530-12a7496a6813', 'principal_investigator': 'MCLAUGHLIN, BRYAN L', 'title': 'EPIDURAL CURRENT-STEERING FOR SELECTIVE MODULATION OF LOWER URINARY TRACT FUNCTION', 'award_id': 'OT2OD024908'}, 'versionPublishedAt': '2021-06-29T21:04:23.316622Z', 'datasetDOI': 'https://dx.doi.org/10.26275/zupz-yhtf', 'tags': ['electrical stimulation', 'urethra', 'spinal cord stimulation', 'pelvic nerve', 'pudendal nerve', 'bladder', 'compound nerve action potential'], 'contributors': [{'firstName': 'Robert', 'middleInitial': None, 'lastName': 'Gaunt', 'degree': None, 'orcid': '0000-0001-6202-5818'}, {'firstName': 'Lee', 'middleInitial': None, 'lastName': 'Fisher', 'degree': None, 'orcid': ''}, {'firstName': 'Maria', 'middleInitial': None, 'lastName': 'Jantz', 'degree': None, 'orcid': '0000-0002-4623-7690'}, {'firstName': 'Chaitanya', 'middleInitial': None, 'lastName': 'Gopinath', 'degree': None, 'orcid': None}, {'firstName': 'Max', 'middleInitial': None, 'lastName': 'Novelli', 'degree': None, 'orcid': None}, {'firstName': 'Bryan', 'middleInitial': None, 'lastName': 'McLaughlin', 'degree': None, 'orcid': None}]}\n"
     ]
    },
    {
     "name": "stderr",
     "output_type": "stream",
     "text": [
      " 94%|████████████████████████████████████████████████████████████████████████████▉     | 92/98 [02:12<00:07,  1.30s/it]"
     ]
    },
    {
     "name": "stdout",
     "output_type": "stream",
     "text": [
      "{'datasetId': 137, 'version': 1, 'model': 'award', 'properties': {'description': '', 'id': 'feebb68c-e847-4a9e-9931-e7f1e5332a57', 'principal_investigator': '', 'title': '', 'award_id': 'OT2OD023848'}, 'versionPublishedAt': '2021-05-11T19:37:19.02855Z', 'datasetDOI': 'https://dx.doi.org/10.26275/56h4-ypua', 'tags': ['sparc', 'ragp', 'lcm', 'single neurons', '3d tracking'], 'contributors': [{'firstName': 'Alison ', 'middleInitial': None, 'lastName': 'Moss', 'degree': None, 'orcid': '0000-0002-7907-8796'}, {'firstName': 'Shaina', 'middleInitial': None, 'lastName': 'Robbins', 'degree': None, 'orcid': '0000-0002-7885-743X'}, {'firstName': 'Sirisha', 'middleInitial': None, 'lastName': 'Achanta', 'degree': None, 'orcid': None}, {'firstName': 'Sean', 'middleInitial': None, 'lastName': 'Nieves', 'degree': None, 'orcid': None}, {'firstName': 'Scott', 'middleInitial': None, 'lastName': 'Turick', 'degree': None, 'orcid': None}, {'firstName': 'Peter', 'middleInitial': None, 'lastName': 'Hanna', 'degree': 'M.D.', 'orcid': '0000-0003-3092-5090'}, {'firstName': 'Jeffrey', 'middleInitial': None, 'lastName': 'Ardell', 'degree': 'Ph.D.', 'orcid': '0000-0001-9241-0864'}, {'firstName': 'Kalyanam', 'middleInitial': None, 'lastName': 'Shivkumar', 'degree': 'Ph.D.', 'orcid': '0000-0002-4121-1766'}, {'firstName': 'James', 'middleInitial': None, 'lastName': 'Schwaber', 'degree': None, 'orcid': '0000-0003-0598-7345'}, {'firstName': 'Raj', 'middleInitial': None, 'lastName': 'Vadigepalli', 'degree': None, 'orcid': '0000-0002-8405-1037'}]}\n"
     ]
    },
    {
     "name": "stderr",
     "output_type": "stream",
     "text": [
      "100%|██████████████████████████████████████████████████████████████████████████████████| 98/98 [02:22<00:00,  1.45s/it]"
     ]
    },
    {
     "name": "stdout",
     "output_type": "stream",
     "text": [
      "[] ['dx.doi.org/10.17504/protocols.io.6bvhan6']\n",
      "[] ['dx.doi.org/10.17504/protocols.io.bafnibme']\n",
      "['https://doi.org/10.1111/nmo.13380'] []\n",
      "[] []\n",
      "[] ['https://dx.doi.org/10.17504/protocols.io.wqmfdu6']\n",
      "[] ['dx.doi.org/10.17504/protocols.io.bh4dj8s6']\n",
      "[] []\n",
      "['https://doi.org/10.3389/fphys.2018.00785'] []\n",
      "[] []\n",
      "[] []\n",
      "[] []\n",
      "[] []\n",
      "[] []\n",
      "['https://doi.org/10.1371/journal.pcbi.1002061'] []\n",
      "[] ['dx.doi.org/10.17504/protocols.io.5nkg5cw']\n",
      "[] ['https://dx.doi.org/10.17504/protocols.io.9gbh3sn', 'https://dx.doi.org/10.17504/protocols.io.y3tfynn', 'https://dx.doi.org/10.17504/protocols.io.bjfzkjp6']\n",
      "[] []\n",
      "[] []\n",
      "[] ['https://dx.doi.org/10.17504/protocols.io.wjrfcm6']\n",
      "[] []\n",
      "[] []\n",
      "['https://doi.org/10.1007/s00441-018-2957-0'] []\n",
      "['https://doi.org/10.1088/1741-2552/ab7ad4'] []\n",
      "[] ['https://doi.org/10.17504/protocols.io.2irgcd6']\n",
      "['https://doi.org/10.1038/s41598-021-81822-3'] ['dx.doi.org/10.17504/protocols.io.w6hfhb6']\n",
      "[] []\n",
      "['https://doi.org/10.1113/jp273259'] []\n",
      "[] ['dx.doi.org/10.17504/protocols.io.3rmgm46']\n",
      "['https://doi.org/10.1111/nmo.13925'] ['dx.doi.org/10.17504/protocols.io.3rmgm46']\n",
      "[] []\n",
      "[] ['dx.doi.org/10.17504/protocols.io.bfxbjpin', 'dx.doi.org/10.17504/protocols.io.bfxgjpjw']\n",
      "[] ['dx.doi.org/10.17504/protocols.io.bqavmse6']\n",
      "[] ['dx.doi.org/10.17504/protocols.io.ba8hiht6']\n",
      "[] []\n",
      "['https://doi.org/10.1007/s00441-019-03029-3'] []\n",
      "['https://doi.org/10.1038/s41598-017-10639-w'] []\n",
      "[] []\n",
      "[] []\n",
      "[] ['dx.doi.org/10.17504/protocols.io.bh4cj8sw']\n",
      "[] []\n",
      "[] []\n",
      "[] ['dx.doi.org/10.17504/protocols.io.bdz5i786']\n",
      "[] []\n",
      "[] []\n",
      "[] []\n",
      "[] []\n",
      "[] []\n",
      "[] ['dx.doi.org/10.17504/protocols.io.bh3tj8nn']\n",
      "[] ['dx.doi.org/10.17504/protocols.io.82fhybn']\n",
      "['https://doi.org/10.1111/nmo.13925'] ['dx.doi.org/10.17504/protocols.io.3rmgm46']\n",
      "[] []\n",
      "['https://doi.org/10.1152/jn.00315.2020'] []\n",
      "[] ['dx.doi.org/10.17504/protocols.io.w3gfgjw']\n",
      "[] ['dx.doi.org/10.17504/protocols.io.bf2pjqdn', 'dx.doi.org/10.17504/protocols.io.bf2kjqcw']\n",
      "['https://doi.org/10.1002/cne.24949'] ['https://dx.doi.org/10.17504/protocols.io.bakxicxn']\n",
      "['https://doi.org/10.1088/1741-2552/aad78e'] ['dx.doi.org/10.17504/protocols.io.ww7ffhn']\n",
      "['https://doi.org/10.1101/2020.07.06.189696'] []\n",
      "[] ['dx.doi.org/10.17504/protocols.io.y6hfzb6']\n",
      "[] []\n",
      "[] ['dx.doi.org/10.17504/protocols.io.6bqhamw']\n",
      "[] []\n",
      "[] []\n",
      "[] ['dx.doi.org/10.17504/protocols.io.98uh9ww', 'dx.doi.org/10.17504/protocols.io.baagiabw']\n",
      "['https://doi.org/10.1038/s41598-018-26651-7'] ['https://doi.org/10.1038/s41598-018-26651-7']\n",
      "[] []\n",
      "[] ['dx.doi.org/10.17504/protocols.io.babtiann']\n",
      "[] []\n",
      "['https://doi.org/10.1038/s41598-020-70216-6'] ['dx.doi.org/10.17504/protocols.io.bpcamise']\n",
      "[] []\n",
      "[] []\n",
      "[] []\n",
      "[] []\n",
      "[] ['dx.doi.org/10.17504/protocols.io.bgdmjs46']\n",
      "['https://doi.org/10.1088/1741-2552/ab7ad4'] ['dx.doi.org/10.17504/protocols.io.9ieh4be']\n",
      "[] ['dx.doi.org/10.17504/protocols.io.xpxfmpn']\n",
      "[] []\n",
      "[] ['dx.doi.org/10.17504/protocols.io.x3sfqne']\n",
      "[] []\n",
      "[] []\n",
      "['https://doi.org/10.1371/journal.pone.0223279'] ['dx.doi.org/10.17504/protocols.io.6a8hahw', 'dx.doi.org/10.17504/protocols.io.6crhav6', 'dx.doi.org/10.17504/protocols.io.6a7hahn']\n",
      "['https://doi.org/10.1152/ajpgi.00252.2018'] ['dx.doi.org/10.17504/protocols.io.xz6fp9e ']\n",
      "[] []\n",
      "['https://doi.org/10.1101/2020.09.18.303958'] ['dx.doi.org/10.17504/protocols.io.bqu2mwye']\n",
      "[] []\n",
      "[] []\n",
      "[] []\n",
      "[] []\n",
      "['https://doi.org/10.1016/j.isci.2020.101140'] ['dx.doi.org/10.17504/protocols.io.bdz5i786']\n",
      "[] ['dx.doi.org/10.17504/protocols.io.bh4bj8sn']\n",
      "[] []\n",
      "[] []\n",
      "[] []\n",
      "['https://doi.org/10.1111/nmo.13685'] []\n",
      "[] ['https://dx.doi.org/10.17504/protocols.io.wwbffan']\n",
      "[] []\n",
      "[] ['dx.doi.org/10.17504/protocols.io.bgfzjtp6']\n",
      "[] ['dx.doi.org/10.17504/protocols.io.bf2pjqdn', 'dx.doi.org/10.17504/protocols.io.bf2kjqcw']\n",
      "[] []\n"
     ]
    },
    {
     "name": "stderr",
     "output_type": "stream",
     "text": [
      "\n"
     ]
    }
   ],
   "source": [
    "#change loop variant on prod\n",
    "# loop_variant = list_of_datasets[:2]\n",
    "loop_variant = list_of_datasets\n",
    "\n",
    "for item in tqdm(loop_variant):\n",
    "    url = \"https://api.pennsieve.io/zipit/discover\"    \n",
    "    payload = {\"data\": {\n",
    "        \"paths\": [\"files/dataset_description.xlsx\"],\n",
    "        \"version\": item['version'],\n",
    "        \"datasetId\": item['datasetId']\n",
    "    }}\n",
    "    response = requests.request(\"POST\", url, json=payload,)\n",
    "    local_filename = \"dataset_description.xlsx\"\n",
    "    totalbits = 0\n",
    "    if response.status_code == 200:\n",
    "        with open(local_filename, 'wb') as f:\n",
    "            for chunk in response.iter_content(chunk_size=1024):\n",
    "                if chunk:\n",
    "                    totalbits += 1024\n",
    "#                     print(\"Downloaded\",totalbits*1025,\"KB...\")\n",
    "                    f.write(chunk)\n",
    "        try: \n",
    "            xl = pd.ExcelFile(\"dataset_description.xlsx\")\n",
    "            df = xl.parse(\"Sheet1\")\n",
    "\n",
    "            # arrays to hold dois for each dataset\n",
    "            originating_article_array = []\n",
    "            protocol_array = []\n",
    "\n",
    "            # get all dois from dataframe\n",
    "            for index, row in df.iterrows():\n",
    "                row_val = row['Metadata element']\n",
    "                if (row_val.find('Originating Article') != -1):\n",
    "                    count = 0\n",
    "                    for col_val in row:\n",
    "                        if (count > 2):\n",
    "                            try: \n",
    "                                if col_val.find('doi.org') != -1:\n",
    "                                    pos = col_val.find('http')\n",
    "                                    if pos != -1:\n",
    "                                        col_val = col_val[pos:]\n",
    "                                    originating_article_array.append(col_val)\n",
    "                            except:\n",
    "                                pass\n",
    "                        count = count + 1\n",
    "                if (row_val.find('Protocol') != -1):\n",
    "                    count = 0\n",
    "                    for col_val in row:\n",
    "                        if (count > 2):\n",
    "                            try: \n",
    "                                if (col_val.find('doi.org') != -1):\n",
    "                                    pos = col_val.find('http')\n",
    "                                    if pos != -1:\n",
    "                                        col_val = col_val[pos:]\n",
    "                                    protocol_array.append(col_val)\n",
    "                            except:\n",
    "                                pass\n",
    "                        count = count + 1\n",
    "            item[\"originatingArticleDOI\"] = originating_article_array\n",
    "            item[\"protocolsDOI\"] = protocol_array\n",
    "        except: \n",
    "            print(item)\n",
    "            item[\"originatingArticleDOI\"] = []\n",
    "            item[\"protocolsDOI\"] = []\n",
    "\n",
    "for item in loop_variant:\n",
    "    print( item[\"originatingArticleDOI\"],  item[\"protocolsDOI\"])"
   ]
  },
  {
   "cell_type": "code",
   "execution_count": 35,
   "id": "83fdd7e9-a8c1-42c9-8073-0a31511b7579",
   "metadata": {},
   "outputs": [
    {
     "name": "stdout",
     "output_type": "stream",
     "text": [
      "64 4 [] ['dx.doi.org/10.17504/protocols.io.6bvhan6']\n",
      "121 1 [] ['dx.doi.org/10.17504/protocols.io.bafnibme']\n",
      "24 2 ['https://doi.org/10.1111/nmo.13380'] []\n",
      "31 3 [] []\n",
      "54 1 [] ['https://dx.doi.org/10.17504/protocols.io.wqmfdu6']\n",
      "65 6 [] ['dx.doi.org/10.17504/protocols.io.bh4dj8s6']\n",
      "27 2 [] []\n",
      "35 3 ['https://doi.org/10.3389/fphys.2018.00785'] []\n",
      "58 1 [] []\n",
      "55 1 [] []\n",
      "127 1 [] []\n",
      "137 1 [] []\n",
      "103 4 [] []\n",
      "63 2 ['https://doi.org/10.1371/journal.pcbi.1002061'] []\n",
      "23 2 [] ['dx.doi.org/10.17504/protocols.io.5nkg5cw']\n",
      "43 5 [] ['https://dx.doi.org/10.17504/protocols.io.9gbh3sn', 'https://dx.doi.org/10.17504/protocols.io.y3tfynn', 'https://dx.doi.org/10.17504/protocols.io.bjfzkjp6']\n",
      "29 6 [] []\n",
      "119 1 [] []\n",
      "56 1 [] ['https://dx.doi.org/10.17504/protocols.io.wjrfcm6']\n",
      "76 3 [] []\n",
      "10 3 [] []\n",
      "59 1 ['https://doi.org/10.1007/s00441-018-2957-0'] []\n",
      "97 1 ['https://doi.org/10.1088/1741-2552/ab7ad4'] []\n",
      "123 1 [] ['https://doi.org/10.17504/protocols.io.2irgcd6']\n",
      "130 1 ['https://doi.org/10.1038/s41598-021-81822-3'] ['dx.doi.org/10.17504/protocols.io.w6hfhb6']\n",
      "117 1 [] []\n",
      "135 1 ['https://doi.org/10.1113/jp273259'] []\n",
      "34 3 [] ['dx.doi.org/10.17504/protocols.io.3rmgm46']\n",
      "150 1 ['https://doi.org/10.1111/nmo.13925'] ['dx.doi.org/10.17504/protocols.io.3rmgm46']\n",
      "100 4 [] []\n",
      "114 1 [] ['dx.doi.org/10.17504/protocols.io.bfxbjpin', 'dx.doi.org/10.17504/protocols.io.bfxgjpjw']\n",
      "158 1 [] ['dx.doi.org/10.17504/protocols.io.bqavmse6']\n",
      "159 1 [] ['dx.doi.org/10.17504/protocols.io.ba8hiht6']\n",
      "116 1 [] []\n",
      "20 3 ['https://doi.org/10.1007/s00441-019-03029-3'] []\n",
      "48 1 ['https://doi.org/10.1038/s41598-017-10639-w'] []\n",
      "118 1 [] []\n",
      "49 1 [] []\n",
      "61 3 [] ['dx.doi.org/10.17504/protocols.io.bh4cj8sw']\n",
      "107 1 [] []\n",
      "50 1 [] []\n",
      "77 2 [] ['dx.doi.org/10.17504/protocols.io.bdz5i786']\n",
      "74 2 [] []\n",
      "57 1 [] []\n",
      "28 2 [] []\n",
      "11 3 [] []\n",
      "105 2 [] []\n",
      "133 1 [] ['dx.doi.org/10.17504/protocols.io.bh3tj8nn']\n",
      "126 1 [] ['dx.doi.org/10.17504/protocols.io.82fhybn']\n",
      "149 1 ['https://doi.org/10.1111/nmo.13925'] ['dx.doi.org/10.17504/protocols.io.3rmgm46']\n",
      "153 1 [] []\n",
      "86 3 ['https://doi.org/10.1152/jn.00315.2020'] []\n",
      "106 1 [] ['dx.doi.org/10.17504/protocols.io.w3gfgjw']\n",
      "120 1 [] ['dx.doi.org/10.17504/protocols.io.bf2pjqdn', 'dx.doi.org/10.17504/protocols.io.bf2kjqcw']\n",
      "88 1 ['https://doi.org/10.1002/cne.24949'] ['https://dx.doi.org/10.17504/protocols.io.bakxicxn']\n",
      "62 1 ['https://doi.org/10.1088/1741-2552/aad78e'] ['dx.doi.org/10.17504/protocols.io.ww7ffhn']\n",
      "108 1 ['https://doi.org/10.1101/2020.07.06.189696'] []\n",
      "60 4 [] ['dx.doi.org/10.17504/protocols.io.y6hfzb6']\n",
      "44 2 [] []\n",
      "82 1 [] ['dx.doi.org/10.17504/protocols.io.6bqhamw']\n",
      "115 1 [] []\n",
      "128 1 [] []\n",
      "131 1 [] ['dx.doi.org/10.17504/protocols.io.98uh9ww', 'dx.doi.org/10.17504/protocols.io.baagiabw']\n",
      "139 1 ['https://doi.org/10.1038/s41598-018-26651-7'] ['https://doi.org/10.1038/s41598-018-26651-7']\n",
      "138 1 [] []\n",
      "140 1 [] ['dx.doi.org/10.17504/protocols.io.babtiann']\n",
      "94 2 [] []\n",
      "124 2 ['https://doi.org/10.1038/s41598-020-70216-6'] ['dx.doi.org/10.17504/protocols.io.bpcamise']\n",
      "101 4 [] []\n",
      "152 1 [] []\n",
      "102 3 [] []\n",
      "99 4 [] []\n",
      "160 1 [] ['dx.doi.org/10.17504/protocols.io.bgdmjs46']\n",
      "85 1 ['https://doi.org/10.1088/1741-2552/ab7ad4'] ['dx.doi.org/10.17504/protocols.io.9ieh4be']\n",
      "90 1 [] ['dx.doi.org/10.17504/protocols.io.xpxfmpn']\n",
      "51 1 [] []\n",
      "32 3 [] ['dx.doi.org/10.17504/protocols.io.x3sfqne']\n",
      "52 1 [] []\n",
      "75 1 [] []\n",
      "41 2 ['https://doi.org/10.1371/journal.pone.0223279'] ['dx.doi.org/10.17504/protocols.io.6a8hahw', 'dx.doi.org/10.17504/protocols.io.6crhav6', 'dx.doi.org/10.17504/protocols.io.6a7hahn']\n",
      "36 4 ['https://doi.org/10.1152/ajpgi.00252.2018'] ['dx.doi.org/10.17504/protocols.io.xz6fp9e ']\n",
      "33 2 [] []\n",
      "109 2 ['https://doi.org/10.1101/2020.09.18.303958'] ['dx.doi.org/10.17504/protocols.io.bqu2mwye']\n",
      "21 2 [] []\n",
      "68 1 [] []\n",
      "26 3 [] []\n",
      "9 4 [] []\n",
      "37 2 ['https://doi.org/10.1016/j.isci.2020.101140'] ['dx.doi.org/10.17504/protocols.io.bdz5i786']\n",
      "16 5 [] ['dx.doi.org/10.17504/protocols.io.bh4bj8sn']\n",
      "12 3 [] []\n",
      "73 1 [] []\n",
      "137 1 [] []\n",
      "125 1 ['https://doi.org/10.1111/nmo.13685'] []\n",
      "143 1 [] ['https://dx.doi.org/10.17504/protocols.io.wwbffan']\n",
      "104 2 [] []\n",
      "151 1 [] ['dx.doi.org/10.17504/protocols.io.bgfzjtp6']\n",
      "132 1 [] ['dx.doi.org/10.17504/protocols.io.bf2pjqdn', 'dx.doi.org/10.17504/protocols.io.bf2kjqcw']\n",
      "98 3 [] []\n"
     ]
    }
   ],
   "source": [
    "for item in loop_variant:\n",
    "    print(item[\"datasetId\"], item[\"version\"], item[\"originatingArticleDOI\"],  item[\"protocolsDOI\"])"
   ]
  },
  {
   "cell_type": "code",
   "execution_count": null,
   "id": "d5ef6a59-2f76-4ca0-882b-37d23030f785",
   "metadata": {},
   "outputs": [],
   "source": []
  }
 ],
 "metadata": {
  "kernelspec": {
   "display_name": "Python 3 (ipykernel)",
   "language": "python",
   "name": "python3"
  },
  "language_info": {
   "codemirror_mode": {
    "name": "ipython",
    "version": 3
   },
   "file_extension": ".py",
   "mimetype": "text/x-python",
   "name": "python",
   "nbconvert_exporter": "python",
   "pygments_lexer": "ipython3",
   "version": "3.9.5"
  }
 },
 "nbformat": 4,
 "nbformat_minor": 5
}
