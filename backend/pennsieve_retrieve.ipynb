{
 "cells": [
  {
   "cell_type": "code",
   "execution_count": 7,
   "id": "61fd6d48-95f9-4d1f-bc8c-f3c4d2759a76",
   "metadata": {},
   "outputs": [
    {
     "data": {
      "text/plain": [
       "'ssoundarajan@calmi2.org'"
      ]
     },
     "execution_count": 7,
     "metadata": {},
     "output_type": "execute_result"
    }
   ],
   "source": [
    "#import .env variables\n",
    "from dotenv import dotenv_values\n",
    "config = dotenv_values(\".env\")\n",
    "config[\"USERNAME\"]"
   ]
  },
  {
   "cell_type": "code",
   "execution_count": 8,
   "id": "a1ab5b93-eb0e-4b82-b412-7e3ef1fb7870",
   "metadata": {},
   "outputs": [],
   "source": [
    "#imports\n",
    "import boto3\n",
    "import requests"
   ]
  },
  {
   "cell_type": "code",
   "execution_count": 11,
   "id": "9d358eea-9308-4085-8316-f41c9f07384f",
   "metadata": {},
   "outputs": [],
   "source": [
    "def autehnticate_user():\n",
    "    PENNSIEVE_URL = \"https://api.pennsieve.io\"\n",
    "    email = config[\"USERNAME\"]\n",
    "    password = config[\"PASSWORD\"]\n",
    "\n",
    "    r = requests.get(f\"{PENNSIEVE_URL}/authentication/cognito-config\")\n",
    "    r.raise_for_status()\n",
    "    cognito_app_client_id = r.json()[\"userPool\"][\"appClientId\"]\n",
    "    cognito_region = r.json()[\"userPool\"][\"region\"]\n",
    "\n",
    "    cognito_client = boto3.client(\n",
    "    \"cognito-idp\",\n",
    "    region_name=cognito_region,\n",
    "    aws_access_key_id=\"\",\n",
    "    aws_secret_access_key=\"\")\n",
    "    \n",
    "    login_response = cognito_client.initiate_auth(\n",
    "    AuthFlow=\"USER_PASSWORD_AUTH\",\n",
    "    AuthParameters={\"USERNAME\": email, \"PASSWORD\": password},\n",
    "    ClientId=cognito_app_client_id)\n",
    "    \n",
    "    api_key = login_response[\"AuthenticationResult\"][\"AccessToken\"]\n",
    "    \n",
    "    r = requests.get(f\"{PENNSIEVE_URL}/user\", headers={\"Authorization\": f\"Bearer {api_key}\"})\n",
    "r.raise_for_status()\n",
    "print(r.json())\n",
    "    "
   ]
  },
  {
   "cell_type": "code",
   "execution_count": null,
   "id": "b90470ed-00d1-4683-b47f-d7a4930bab43",
   "metadata": {},
   "outputs": [],
   "source": []
  }
 ],
 "metadata": {
  "kernelspec": {
   "display_name": "Python 3 (ipykernel)",
   "language": "python",
   "name": "python3"
  },
  "language_info": {
   "codemirror_mode": {
    "name": "ipython",
    "version": 3
   },
   "file_extension": ".py",
   "mimetype": "text/x-python",
   "name": "python",
   "nbconvert_exporter": "python",
   "pygments_lexer": "ipython3",
   "version": "3.9.5"
  }
 },
 "nbformat": 4,
 "nbformat_minor": 5
}
